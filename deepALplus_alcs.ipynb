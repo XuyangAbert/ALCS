{
  "nbformat": 4,
  "nbformat_minor": 0,
  "metadata": {
    "colab": {
      "provenance": [],
      "machine_shape": "hm",
      "gpuType": "A100",
      "authorship_tag": "ABX9TyMOUCwBEFMoy40CLw/jVRBa",
      "include_colab_link": true
    },
    "kernelspec": {
      "name": "python3",
      "display_name": "Python 3"
    },
    "language_info": {
      "name": "python"
    },
    "accelerator": "GPU"
  },
  "cells": [
    {
      "cell_type": "markdown",
      "metadata": {
        "id": "view-in-github",
        "colab_type": "text"
      },
      "source": [
        "<a href=\"https://colab.research.google.com/github/XuyangAbert/ALCS/blob/main/deepALplus_alcs.ipynb\" target=\"_parent\"><img src=\"https://colab.research.google.com/assets/colab-badge.svg\" alt=\"Open In Colab\"/></a>"
      ]
    },
    {
      "cell_type": "code",
      "execution_count": 2,
      "metadata": {
        "colab": {
          "base_uri": "https://localhost:8080/"
        },
        "id": "5W710EL1HTGD",
        "outputId": "0bd543c5-c4e4-4a98-cbca-2c7157bc27d6"
      },
      "outputs": [
        {
          "output_type": "stream",
          "name": "stdout",
          "text": [
            "Cloning into 'DeepALCS'...\n",
            "remote: Enumerating objects: 81, done.\u001b[K\n",
            "remote: Total 81 (delta 0), reused 0 (delta 0), pack-reused 81\u001b[K\n",
            "Receiving objects: 100% (81/81), 76.72 KiB | 19.18 MiB/s, done.\n",
            "Resolving deltas: 100% (28/28), done.\n"
          ]
        }
      ],
      "source": [
        "!git clone https://github.com/XuyangAbert/DeepALCS"
      ]
    },
    {
      "cell_type": "code",
      "source": [
        "import sys\n",
        "sys.path.append(\"/content/DeepALCS/deepALplus-master\")"
      ],
      "metadata": {
        "id": "6Ah8BlRcHbHq"
      },
      "execution_count": 1,
      "outputs": []
    },
    {
      "cell_type": "code",
      "source": [
        "!pip install numpy\n",
        "!pip install scipy\n",
        "!pip install torch\n",
        "!pip install torchvision\n",
        "!pip install scikit-learn\n",
        "!pip install tqdm\n",
        "!pip install ipdb==0.13.9\n",
        "!pip install openml==0.12.2\n",
        "!pip install faiss-gpu==1.7.2\n",
        "!pip install toma==1.1.0\n",
        "!pip install opencv-python==4.5.5.64\n",
        "!pip install wilds==2.0.0"
      ],
      "metadata": {
        "colab": {
          "base_uri": "https://localhost:8080/"
        },
        "id": "AKcyJdmfHr59",
        "outputId": "dbd2f7a4-7f8b-49e5-bac7-439074351c4c"
      },
      "execution_count": 2,
      "outputs": [
        {
          "output_type": "stream",
          "name": "stdout",
          "text": [
            "Requirement already satisfied: numpy in /usr/local/lib/python3.10/dist-packages (1.23.5)\n",
            "Requirement already satisfied: scipy in /usr/local/lib/python3.10/dist-packages (1.11.4)\n",
            "Requirement already satisfied: numpy<1.28.0,>=1.21.6 in /usr/local/lib/python3.10/dist-packages (from scipy) (1.23.5)\n",
            "Requirement already satisfied: torch in /usr/local/lib/python3.10/dist-packages (2.1.0+cu121)\n",
            "Requirement already satisfied: filelock in /usr/local/lib/python3.10/dist-packages (from torch) (3.13.1)\n",
            "Requirement already satisfied: typing-extensions in /usr/local/lib/python3.10/dist-packages (from torch) (4.5.0)\n",
            "Requirement already satisfied: sympy in /usr/local/lib/python3.10/dist-packages (from torch) (1.12)\n",
            "Requirement already satisfied: networkx in /usr/local/lib/python3.10/dist-packages (from torch) (3.2.1)\n",
            "Requirement already satisfied: jinja2 in /usr/local/lib/python3.10/dist-packages (from torch) (3.1.2)\n",
            "Requirement already satisfied: fsspec in /usr/local/lib/python3.10/dist-packages (from torch) (2023.6.0)\n",
            "Requirement already satisfied: triton==2.1.0 in /usr/local/lib/python3.10/dist-packages (from torch) (2.1.0)\n",
            "Requirement already satisfied: MarkupSafe>=2.0 in /usr/local/lib/python3.10/dist-packages (from jinja2->torch) (2.1.3)\n",
            "Requirement already satisfied: mpmath>=0.19 in /usr/local/lib/python3.10/dist-packages (from sympy->torch) (1.3.0)\n",
            "Requirement already satisfied: torchvision in /usr/local/lib/python3.10/dist-packages (0.16.0+cu121)\n",
            "Requirement already satisfied: numpy in /usr/local/lib/python3.10/dist-packages (from torchvision) (1.23.5)\n",
            "Requirement already satisfied: requests in /usr/local/lib/python3.10/dist-packages (from torchvision) (2.31.0)\n",
            "Requirement already satisfied: torch==2.1.0 in /usr/local/lib/python3.10/dist-packages (from torchvision) (2.1.0+cu121)\n",
            "Requirement already satisfied: pillow!=8.3.*,>=5.3.0 in /usr/local/lib/python3.10/dist-packages (from torchvision) (9.4.0)\n",
            "Requirement already satisfied: filelock in /usr/local/lib/python3.10/dist-packages (from torch==2.1.0->torchvision) (3.13.1)\n",
            "Requirement already satisfied: typing-extensions in /usr/local/lib/python3.10/dist-packages (from torch==2.1.0->torchvision) (4.5.0)\n",
            "Requirement already satisfied: sympy in /usr/local/lib/python3.10/dist-packages (from torch==2.1.0->torchvision) (1.12)\n",
            "Requirement already satisfied: networkx in /usr/local/lib/python3.10/dist-packages (from torch==2.1.0->torchvision) (3.2.1)\n",
            "Requirement already satisfied: jinja2 in /usr/local/lib/python3.10/dist-packages (from torch==2.1.0->torchvision) (3.1.2)\n",
            "Requirement already satisfied: fsspec in /usr/local/lib/python3.10/dist-packages (from torch==2.1.0->torchvision) (2023.6.0)\n",
            "Requirement already satisfied: triton==2.1.0 in /usr/local/lib/python3.10/dist-packages (from torch==2.1.0->torchvision) (2.1.0)\n",
            "Requirement already satisfied: charset-normalizer<4,>=2 in /usr/local/lib/python3.10/dist-packages (from requests->torchvision) (3.3.2)\n",
            "Requirement already satisfied: idna<4,>=2.5 in /usr/local/lib/python3.10/dist-packages (from requests->torchvision) (3.6)\n",
            "Requirement already satisfied: urllib3<3,>=1.21.1 in /usr/local/lib/python3.10/dist-packages (from requests->torchvision) (2.0.7)\n",
            "Requirement already satisfied: certifi>=2017.4.17 in /usr/local/lib/python3.10/dist-packages (from requests->torchvision) (2023.11.17)\n",
            "Requirement already satisfied: MarkupSafe>=2.0 in /usr/local/lib/python3.10/dist-packages (from jinja2->torch==2.1.0->torchvision) (2.1.3)\n",
            "Requirement already satisfied: mpmath>=0.19 in /usr/local/lib/python3.10/dist-packages (from sympy->torch==2.1.0->torchvision) (1.3.0)\n",
            "Requirement already satisfied: scikit-learn in /usr/local/lib/python3.10/dist-packages (1.2.2)\n",
            "Requirement already satisfied: numpy>=1.17.3 in /usr/local/lib/python3.10/dist-packages (from scikit-learn) (1.23.5)\n",
            "Requirement already satisfied: scipy>=1.3.2 in /usr/local/lib/python3.10/dist-packages (from scikit-learn) (1.11.4)\n",
            "Requirement already satisfied: joblib>=1.1.1 in /usr/local/lib/python3.10/dist-packages (from scikit-learn) (1.3.2)\n",
            "Requirement already satisfied: threadpoolctl>=2.0.0 in /usr/local/lib/python3.10/dist-packages (from scikit-learn) (3.2.0)\n",
            "Requirement already satisfied: tqdm in /usr/local/lib/python3.10/dist-packages (4.66.1)\n",
            "Requirement already satisfied: ipdb==0.13.9 in /usr/local/lib/python3.10/dist-packages (0.13.9)\n",
            "Requirement already satisfied: setuptools in /usr/local/lib/python3.10/dist-packages (from ipdb==0.13.9) (67.7.2)\n",
            "Requirement already satisfied: ipython>=7.17.0 in /usr/local/lib/python3.10/dist-packages (from ipdb==0.13.9) (7.34.0)\n",
            "Requirement already satisfied: toml>=0.10.2 in /usr/local/lib/python3.10/dist-packages (from ipdb==0.13.9) (0.10.2)\n",
            "Requirement already satisfied: decorator in /usr/local/lib/python3.10/dist-packages (from ipdb==0.13.9) (4.4.2)\n",
            "Requirement already satisfied: jedi>=0.16 in /usr/local/lib/python3.10/dist-packages (from ipython>=7.17.0->ipdb==0.13.9) (0.19.1)\n",
            "Requirement already satisfied: pickleshare in /usr/local/lib/python3.10/dist-packages (from ipython>=7.17.0->ipdb==0.13.9) (0.7.5)\n",
            "Requirement already satisfied: traitlets>=4.2 in /usr/local/lib/python3.10/dist-packages (from ipython>=7.17.0->ipdb==0.13.9) (5.7.1)\n",
            "Requirement already satisfied: prompt-toolkit!=3.0.0,!=3.0.1,<3.1.0,>=2.0.0 in /usr/local/lib/python3.10/dist-packages (from ipython>=7.17.0->ipdb==0.13.9) (3.0.43)\n",
            "Requirement already satisfied: pygments in /usr/local/lib/python3.10/dist-packages (from ipython>=7.17.0->ipdb==0.13.9) (2.16.1)\n",
            "Requirement already satisfied: backcall in /usr/local/lib/python3.10/dist-packages (from ipython>=7.17.0->ipdb==0.13.9) (0.2.0)\n",
            "Requirement already satisfied: matplotlib-inline in /usr/local/lib/python3.10/dist-packages (from ipython>=7.17.0->ipdb==0.13.9) (0.1.6)\n",
            "Requirement already satisfied: pexpect>4.3 in /usr/local/lib/python3.10/dist-packages (from ipython>=7.17.0->ipdb==0.13.9) (4.9.0)\n",
            "Requirement already satisfied: parso<0.9.0,>=0.8.3 in /usr/local/lib/python3.10/dist-packages (from jedi>=0.16->ipython>=7.17.0->ipdb==0.13.9) (0.8.3)\n",
            "Requirement already satisfied: ptyprocess>=0.5 in /usr/local/lib/python3.10/dist-packages (from pexpect>4.3->ipython>=7.17.0->ipdb==0.13.9) (0.7.0)\n",
            "Requirement already satisfied: wcwidth in /usr/local/lib/python3.10/dist-packages (from prompt-toolkit!=3.0.0,!=3.0.1,<3.1.0,>=2.0.0->ipython>=7.17.0->ipdb==0.13.9) (0.2.12)\n",
            "Requirement already satisfied: openml==0.12.2 in /usr/local/lib/python3.10/dist-packages (0.12.2)\n",
            "Requirement already satisfied: liac-arff>=2.4.0 in /usr/local/lib/python3.10/dist-packages (from openml==0.12.2) (2.5.0)\n",
            "Requirement already satisfied: xmltodict in /usr/local/lib/python3.10/dist-packages (from openml==0.12.2) (0.13.0)\n",
            "Requirement already satisfied: requests in /usr/local/lib/python3.10/dist-packages (from openml==0.12.2) (2.31.0)\n",
            "Requirement already satisfied: scikit-learn>=0.18 in /usr/local/lib/python3.10/dist-packages (from openml==0.12.2) (1.2.2)\n",
            "Requirement already satisfied: python-dateutil in /usr/local/lib/python3.10/dist-packages (from openml==0.12.2) (2.8.2)\n",
            "Requirement already satisfied: pandas>=1.0.0 in /usr/local/lib/python3.10/dist-packages (from openml==0.12.2) (1.5.3)\n",
            "Requirement already satisfied: scipy>=0.13.3 in /usr/local/lib/python3.10/dist-packages (from openml==0.12.2) (1.11.4)\n",
            "Requirement already satisfied: numpy>=1.6.2 in /usr/local/lib/python3.10/dist-packages (from openml==0.12.2) (1.23.5)\n",
            "Requirement already satisfied: minio in /usr/local/lib/python3.10/dist-packages (from openml==0.12.2) (7.2.0)\n",
            "Requirement already satisfied: pyarrow in /usr/local/lib/python3.10/dist-packages (from openml==0.12.2) (10.0.1)\n",
            "Requirement already satisfied: pytz>=2020.1 in /usr/local/lib/python3.10/dist-packages (from pandas>=1.0.0->openml==0.12.2) (2023.3.post1)\n",
            "Requirement already satisfied: six>=1.5 in /usr/local/lib/python3.10/dist-packages (from python-dateutil->openml==0.12.2) (1.16.0)\n",
            "Requirement already satisfied: joblib>=1.1.1 in /usr/local/lib/python3.10/dist-packages (from scikit-learn>=0.18->openml==0.12.2) (1.3.2)\n",
            "Requirement already satisfied: threadpoolctl>=2.0.0 in /usr/local/lib/python3.10/dist-packages (from scikit-learn>=0.18->openml==0.12.2) (3.2.0)\n",
            "Requirement already satisfied: certifi in /usr/local/lib/python3.10/dist-packages (from minio->openml==0.12.2) (2023.11.17)\n",
            "Requirement already satisfied: urllib3 in /usr/local/lib/python3.10/dist-packages (from minio->openml==0.12.2) (2.0.7)\n",
            "Requirement already satisfied: argon2-cffi in /usr/local/lib/python3.10/dist-packages (from minio->openml==0.12.2) (23.1.0)\n",
            "Requirement already satisfied: pycryptodome in /usr/local/lib/python3.10/dist-packages (from minio->openml==0.12.2) (3.19.0)\n",
            "Requirement already satisfied: charset-normalizer<4,>=2 in /usr/local/lib/python3.10/dist-packages (from requests->openml==0.12.2) (3.3.2)\n",
            "Requirement already satisfied: idna<4,>=2.5 in /usr/local/lib/python3.10/dist-packages (from requests->openml==0.12.2) (3.6)\n",
            "Requirement already satisfied: argon2-cffi-bindings in /usr/local/lib/python3.10/dist-packages (from argon2-cffi->minio->openml==0.12.2) (21.2.0)\n",
            "Requirement already satisfied: cffi>=1.0.1 in /usr/local/lib/python3.10/dist-packages (from argon2-cffi-bindings->argon2-cffi->minio->openml==0.12.2) (1.16.0)\n",
            "Requirement already satisfied: pycparser in /usr/local/lib/python3.10/dist-packages (from cffi>=1.0.1->argon2-cffi-bindings->argon2-cffi->minio->openml==0.12.2) (2.21)\n",
            "Requirement already satisfied: faiss-gpu==1.7.2 in /usr/local/lib/python3.10/dist-packages (1.7.2)\n",
            "Requirement already satisfied: toma==1.1.0 in /usr/local/lib/python3.10/dist-packages (1.1.0)\n",
            "Requirement already satisfied: torch in /usr/local/lib/python3.10/dist-packages (from toma==1.1.0) (2.1.0+cu121)\n",
            "Requirement already satisfied: psutil in /usr/local/lib/python3.10/dist-packages (from toma==1.1.0) (5.9.5)\n",
            "Requirement already satisfied: filelock in /usr/local/lib/python3.10/dist-packages (from torch->toma==1.1.0) (3.13.1)\n",
            "Requirement already satisfied: typing-extensions in /usr/local/lib/python3.10/dist-packages (from torch->toma==1.1.0) (4.5.0)\n",
            "Requirement already satisfied: sympy in /usr/local/lib/python3.10/dist-packages (from torch->toma==1.1.0) (1.12)\n",
            "Requirement already satisfied: networkx in /usr/local/lib/python3.10/dist-packages (from torch->toma==1.1.0) (3.2.1)\n",
            "Requirement already satisfied: jinja2 in /usr/local/lib/python3.10/dist-packages (from torch->toma==1.1.0) (3.1.2)\n",
            "Requirement already satisfied: fsspec in /usr/local/lib/python3.10/dist-packages (from torch->toma==1.1.0) (2023.6.0)\n",
            "Requirement already satisfied: triton==2.1.0 in /usr/local/lib/python3.10/dist-packages (from torch->toma==1.1.0) (2.1.0)\n",
            "Requirement already satisfied: MarkupSafe>=2.0 in /usr/local/lib/python3.10/dist-packages (from jinja2->torch->toma==1.1.0) (2.1.3)\n",
            "Requirement already satisfied: mpmath>=0.19 in /usr/local/lib/python3.10/dist-packages (from sympy->torch->toma==1.1.0) (1.3.0)\n",
            "Requirement already satisfied: opencv-python==4.5.5.64 in /usr/local/lib/python3.10/dist-packages (4.5.5.64)\n",
            "Requirement already satisfied: numpy>=1.21.2 in /usr/local/lib/python3.10/dist-packages (from opencv-python==4.5.5.64) (1.23.5)\n",
            "Requirement already satisfied: wilds==2.0.0 in /usr/local/lib/python3.10/dist-packages (2.0.0)\n",
            "Requirement already satisfied: numpy>=1.19.1 in /usr/local/lib/python3.10/dist-packages (from wilds==2.0.0) (1.23.5)\n",
            "Requirement already satisfied: ogb>=1.2.6 in /usr/local/lib/python3.10/dist-packages (from wilds==2.0.0) (1.3.6)\n",
            "Requirement already satisfied: outdated>=0.2.0 in /usr/local/lib/python3.10/dist-packages (from wilds==2.0.0) (0.2.2)\n",
            "Requirement already satisfied: pandas>=1.1.0 in /usr/local/lib/python3.10/dist-packages (from wilds==2.0.0) (1.5.3)\n",
            "Requirement already satisfied: pillow>=7.2.0 in /usr/local/lib/python3.10/dist-packages (from wilds==2.0.0) (9.4.0)\n",
            "Requirement already satisfied: pytz>=2020.4 in /usr/local/lib/python3.10/dist-packages (from wilds==2.0.0) (2023.3.post1)\n",
            "Requirement already satisfied: torch>=1.7.0 in /usr/local/lib/python3.10/dist-packages (from wilds==2.0.0) (2.1.0+cu121)\n",
            "Requirement already satisfied: torchvision>=0.8.2 in /usr/local/lib/python3.10/dist-packages (from wilds==2.0.0) (0.16.0+cu121)\n",
            "Requirement already satisfied: tqdm>=4.53.0 in /usr/local/lib/python3.10/dist-packages (from wilds==2.0.0) (4.66.1)\n",
            "Requirement already satisfied: scikit-learn>=0.20.0 in /usr/local/lib/python3.10/dist-packages (from wilds==2.0.0) (1.2.2)\n",
            "Requirement already satisfied: scipy>=1.5.4 in /usr/local/lib/python3.10/dist-packages (from wilds==2.0.0) (1.11.4)\n",
            "Requirement already satisfied: six>=1.12.0 in /usr/local/lib/python3.10/dist-packages (from ogb>=1.2.6->wilds==2.0.0) (1.16.0)\n",
            "Requirement already satisfied: urllib3>=1.24.0 in /usr/local/lib/python3.10/dist-packages (from ogb>=1.2.6->wilds==2.0.0) (2.0.7)\n",
            "Requirement already satisfied: setuptools>=44 in /usr/local/lib/python3.10/dist-packages (from outdated>=0.2.0->wilds==2.0.0) (67.7.2)\n",
            "Requirement already satisfied: littleutils in /usr/local/lib/python3.10/dist-packages (from outdated>=0.2.0->wilds==2.0.0) (0.2.2)\n",
            "Requirement already satisfied: requests in /usr/local/lib/python3.10/dist-packages (from outdated>=0.2.0->wilds==2.0.0) (2.31.0)\n",
            "Requirement already satisfied: python-dateutil>=2.8.1 in /usr/local/lib/python3.10/dist-packages (from pandas>=1.1.0->wilds==2.0.0) (2.8.2)\n",
            "Requirement already satisfied: joblib>=1.1.1 in /usr/local/lib/python3.10/dist-packages (from scikit-learn>=0.20.0->wilds==2.0.0) (1.3.2)\n",
            "Requirement already satisfied: threadpoolctl>=2.0.0 in /usr/local/lib/python3.10/dist-packages (from scikit-learn>=0.20.0->wilds==2.0.0) (3.2.0)\n",
            "Requirement already satisfied: filelock in /usr/local/lib/python3.10/dist-packages (from torch>=1.7.0->wilds==2.0.0) (3.13.1)\n",
            "Requirement already satisfied: typing-extensions in /usr/local/lib/python3.10/dist-packages (from torch>=1.7.0->wilds==2.0.0) (4.5.0)\n",
            "Requirement already satisfied: sympy in /usr/local/lib/python3.10/dist-packages (from torch>=1.7.0->wilds==2.0.0) (1.12)\n",
            "Requirement already satisfied: networkx in /usr/local/lib/python3.10/dist-packages (from torch>=1.7.0->wilds==2.0.0) (3.2.1)\n",
            "Requirement already satisfied: jinja2 in /usr/local/lib/python3.10/dist-packages (from torch>=1.7.0->wilds==2.0.0) (3.1.2)\n",
            "Requirement already satisfied: fsspec in /usr/local/lib/python3.10/dist-packages (from torch>=1.7.0->wilds==2.0.0) (2023.6.0)\n",
            "Requirement already satisfied: triton==2.1.0 in /usr/local/lib/python3.10/dist-packages (from torch>=1.7.0->wilds==2.0.0) (2.1.0)\n",
            "Requirement already satisfied: MarkupSafe>=2.0 in /usr/local/lib/python3.10/dist-packages (from jinja2->torch>=1.7.0->wilds==2.0.0) (2.1.3)\n",
            "Requirement already satisfied: charset-normalizer<4,>=2 in /usr/local/lib/python3.10/dist-packages (from requests->outdated>=0.2.0->wilds==2.0.0) (3.3.2)\n",
            "Requirement already satisfied: idna<4,>=2.5 in /usr/local/lib/python3.10/dist-packages (from requests->outdated>=0.2.0->wilds==2.0.0) (3.6)\n",
            "Requirement already satisfied: certifi>=2017.4.17 in /usr/local/lib/python3.10/dist-packages (from requests->outdated>=0.2.0->wilds==2.0.0) (2023.11.17)\n",
            "Requirement already satisfied: mpmath>=0.19 in /usr/local/lib/python3.10/dist-packages (from sympy->torch>=1.7.0->wilds==2.0.0) (1.3.0)\n"
          ]
        }
      ]
    },
    {
      "cell_type": "code",
      "source": [
        "import argparse\n",
        "import numpy as np\n",
        "import warnings\n",
        "import torch\n",
        "from utils import get_dataset, get_net, get_net_lpl, get_net_waal, get_strategy\n",
        "from pprint import pprint\n",
        "\n",
        "torch.set_printoptions(profile='full')\n",
        "\n",
        "import sys\n",
        "import os\n",
        "import re\n",
        "import random\n",
        "import math\n",
        "import datetime\n",
        "\n",
        "# import arguments\n",
        "from parameters import *\n",
        "from utils import *\n",
        "\n",
        "# # parameters\n",
        "# args_input = arguments.get_args()\n",
        "# NUM_QUERY = args_input.batch\n",
        "# NUM_INIT_LB = args_input.initseed\n",
        "# NUM_ROUND = int(args_input.quota / args_input.batch)\n",
        "# DATA_NAME = args_input.dataset_name\n",
        "# STRATEGY_NAME = args_input.ALstrategy\n",
        "\n",
        "\n",
        "# SEED = args_input.seed\n",
        "# os.environ['TORCH_HOME']='./basicmodel'\n",
        "# os.environ[\"CUDA_VISIBLE_DEVICES\"] = str(args_input.gpu)\n",
        "\n",
        "# # fix random seed\n",
        "# np.random.seed(SEED)\n",
        "# torch.manual_seed(SEED)\n",
        "# torch.backends.cudnn.enabled  = True\n",
        "# torch.backends.cudnn.benchmark= True"
      ],
      "metadata": {
        "id": "VhwZPyf7ISOS"
      },
      "execution_count": 3,
      "outputs": []
    },
    {
      "cell_type": "code",
      "source": [
        "initseed = 100\n",
        "ALstrategy = \"ALCS_Diversity\"\n",
        "NUM_QUERY = 100\n",
        "NUM_ROUND = 3\n",
        "DATA_NAME = \"CIFAR10\""
      ],
      "metadata": {
        "id": "glOzgtIbfu0v"
      },
      "execution_count": 4,
      "outputs": []
    },
    {
      "cell_type": "code",
      "source": [
        "# device\n",
        "use_cuda = torch.cuda.is_available()\n",
        "device = torch.device(\"cuda\" if use_cuda else \"cpu\")\n",
        "\n",
        "# #recording\n",
        "# sys.stdout = Logger(os.path.abspath('') + '/logfile/' + DATA_NAME+ '_'  + STRATEGY_NAME + '_' + str(NUM_QUERY) + '_' + str(NUM_INIT_LB) +  '_' + str(args_input.quota) + '_normal_log.txt')\n",
        "warnings.filterwarnings('ignore')\n",
        "\n",
        "# start experiment\n",
        "\n",
        "iteration = 5\n",
        "\n",
        "all_acc = []\n",
        "acq_time = []\n",
        "\n",
        "args_input = {}\n",
        "dataset_name = DATA_NAME\n",
        "\n",
        "# repeate # iteration trials\n",
        "while (iteration > 0):\n",
        "\titeration = iteration - 1\n",
        "\t# data, network, strategy\n",
        "\targs_task = args_pool[dataset_name]\n",
        "\n",
        "\tdataset = get_dataset(dataset_name, args_task)\t\t\t\t# load dataset\n",
        "\tif ALstrategy == 'LossPredictionLoss':\n",
        "\t\tnet = get_net_lpl(dataset_name, args_task, device)\t\t# load network\n",
        "\telif ALstrategy == 'WAAL':\n",
        "\t\tnet = get_net_waal(dataset_name, args_task, device)\t\t# load network\n",
        "\telse:\n",
        "\t\tnet = get_net(dataset_name, args_task, device)\t\t\t# load network\n",
        "\tstrategy = get_strategy(ALstrategy, dataset, net, args_input, args_task)  # load strategy\n",
        "\tprint(strategy)\n",
        "\tstart = datetime.datetime.now()\n",
        "  # generate initial labeled pool\n",
        "\tdataset.initialize_labels(initseed)\n",
        "  #record acc performance\n",
        "\tacc = np.zeros(NUM_ROUND + 1)\n",
        "  # only for special cases that need additional data\n",
        "\tnew_X = torch.empty(0)\n",
        "\tnew_Y = torch.empty(0)\n",
        "\t# print info\n",
        "\tprint(args_task)\n",
        "\tprint('RANDOM SEED {}'.format(4666))\n",
        "\tprint(type(strategy).__name__)\n",
        "\t# One-time query for ALCS-Diversity\n",
        "\tif ALstrategy == 'ALCS_Diversity':\n",
        "\t\tstrategy.train()\n",
        "\t\tq_idxs = strategy.query(NUM_QUERY*(NUM_ROUND))\n",
        "\t\tstrategy.update(q_idxs)\n",
        "\t\tstrategy.train()\n",
        "\t\tpreds = strategy.predict(dataset.get_test_data())\n",
        "\t\tacc = dataset.cal_test_acc(preds)\n",
        "\t\tprint('testing accuracy {}'.format(acc))\n",
        "\telse:\n",
        "\t\t# round 0 accuracy\n",
        "\t\tif ALstrategy == 'WAAL':\n",
        "\t\t\tstrategy.train(model_name = ALstrategy)\n",
        "\t\telse:\n",
        "\t\t\tstrategy.train()\n",
        "\t\tpreds = strategy.predict(dataset.get_test_data())\n",
        "\t\tacc[0] = dataset.cal_test_acc(preds)\n",
        "\t\tprint('Round 0\\ntesting accuracy {}'.format(acc[0]))\n",
        "\t\tprint('\\n')\n",
        "\n",
        "\t\t# round 1 to rd\n",
        "\t\tfor rd in range(1, NUM_ROUND+1):\n",
        "\t\t\t# print('Round {}'.format(rd))\n",
        "\t\t\thigh_confident_idx = []\n",
        "\t\t\thigh_confident_pseudo_label = []\n",
        "\t\t\t# query\n",
        "\t\t\tif 'CEALSampling' in ALstrategy:\n",
        "\t\t\t\tq_idxs, new_data = strategy.query(NUM_QUERY, rd, option = ALstrategy[13:])\n",
        "\t\t\telse:\n",
        "\t\t\t\tq_idxs = strategy.query(NUM_QUERY)\n",
        "\n",
        "\t\t\t# update\n",
        "\t\t\tstrategy.update(q_idxs)\n",
        "\n",
        "\t\t\t#train\n",
        "\t\t\tif 'CEALSampling' in ALstrategy:\n",
        "\t\t\t\tstrategy.train(new_data)\n",
        "\t\t\telif ALstrategy == 'WAAL':\n",
        "\t\t\t\tstrategy.train(model_name = ALstrategy)\n",
        "\t\t\telse:\n",
        "\t\t\t\tstrategy.train()\n",
        "\n",
        "\t\t\t# round rd accuracy\n",
        "\t\t\tpreds = strategy.predict(dataset.get_test_data())\n",
        "\t\t\tacc[rd] = dataset.cal_test_acc(preds)\n",
        "\t\t\t# print('testing accuracy {}'.format(acc[rd]))\n",
        "\t\t\t# print('\\n')\n",
        "\t\t# print results\n",
        "\t\t# print('SEED {}'.format(SEED))\n",
        "\t\tprint(type(strategy).__name__)\n",
        "\t\tprint(acc[-1])\n",
        "\t\tall_acc.append(acc[-1])\n",
        "\n",
        "\t# #save model\n",
        "\t# timestamp = re.sub('\\.[0-9]*','_',str(datetime.datetime.now())).replace(\" \", \"_\").replace(\"-\", \"\").replace(\":\",\"\")\n",
        "\t# os.makedirs('./modelpara/', exist_ok=True)\n",
        "\t# model_path = './modelpara/'+timestamp + DATA_NAME+ '_'  + ALstrategy + '_' + str(NUM_QUERY) + '_' + str(initseed) +  '_' + str(1000)  +'.params'\n",
        "\t# end = datetime.datetime.now()\n",
        "\t# acq_time.append(round(float((end-start).seconds),3))\n",
        "\t# torch.save(strategy.get_model().state_dict(), model_path)\n",
        "\n",
        "# # cal mean & standard deviation\n",
        "# acc_m = []\n",
        "# file_name_res_tot = DATA_NAME+ '_'  + STRATEGY_NAME + '_' + str(NUM_QUERY) + '_' + str(NUM_INIT_LB) +  '_' + str(args_input.quota) + '_normal_res_tot.txt'\n",
        "# file_res_tot =  open(os.path.join(os.path.abspath('') + '/results', '%s' % file_name_res_tot),'w')\n",
        "\n",
        "# file_res_tot.writelines('dataset: {}'.format(DATA_NAME) + '\\n')\n",
        "# file_res_tot.writelines('AL strategy: {}'.format(STRATEGY_NAME) + '\\n')\n",
        "# file_res_tot.writelines('number of labeled pool: {}'.format(NUM_INIT_LB) + '\\n')\n",
        "# file_res_tot.writelines('number of unlabeled pool: {}'.format(dataset.n_pool - NUM_INIT_LB) + '\\n')\n",
        "# file_res_tot.writelines('number of testing pool: {}'.format(dataset.n_test) + '\\n')\n",
        "# file_res_tot.writelines('batch size: {}'.format(NUM_QUERY) + '\\n')\n",
        "# file_res_tot.writelines('quota: {}'.format(NUM_ROUND*NUM_QUERY)+ '\\n')\n",
        "# file_res_tot.writelines('time of repeat experiments: {}'.format(args_input.iteration)+ '\\n')\n"
      ],
      "metadata": {
        "id": "-cdIeE0dIfEm",
        "colab": {
          "base_uri": "https://localhost:8080/"
        },
        "outputId": "2b045de1-af30-4af8-8740-612b912216f6"
      },
      "execution_count": null,
      "outputs": [
        {
          "output_type": "stream",
          "name": "stdout",
          "text": [
            "Files already downloaded and verified\n",
            "Files already downloaded and verified\n",
            "<query_strategies.alcs_diversity.ALCS_Diversity object at 0x7d3d2fc8b160>\n",
            "{'n_epoch': 30, 'name': 'CIFAR10', 'transform_train': Compose(\n",
            "    RandomCrop(size=(32, 32), padding=4)\n",
            "    RandomHorizontalFlip(p=0.5)\n",
            "    ToTensor()\n",
            "    Normalize(mean=(0.4914, 0.4822, 0.4465), std=(0.247, 0.2435, 0.2616))\n",
            "), 'transform': Compose(\n",
            "    ToTensor()\n",
            "    Normalize(mean=(0.4914, 0.4822, 0.4465), std=(0.247, 0.2435, 0.2616))\n",
            "), 'loader_tr_args': {'batch_size': 128, 'num_workers': 4}, 'loader_te_args': {'batch_size': 1000, 'num_workers': 4}, 'num_class': 10, 'pretrained': False, 'optimizer': 'Adam', 'optimizer_args': {'lr': 0.001}}\n",
            "RANDOM SEED 4666\n",
            "ALCS_Diversity\n"
          ]
        },
        {
          "output_type": "stream",
          "name": "stderr",
          "text": [
            "100%|███████████████████████████████████████████████████████████████| 30/30 [00:06<00:00,  4.76it/s]\n"
          ]
        },
        {
          "output_type": "stream",
          "name": "stdout",
          "text": [
            "fps-clustering stage finish!\n"
          ]
        },
        {
          "output_type": "stream",
          "name": "stderr",
          "text": [
            "100%|███████████████████████████████████████████████████████████████| 30/30 [00:08<00:00,  3.73it/s]\n"
          ]
        },
        {
          "output_type": "stream",
          "name": "stdout",
          "text": [
            "testing accuracy 0.3607\n",
            "Files already downloaded and verified\n",
            "Files already downloaded and verified\n",
            "<query_strategies.alcs_diversity.ALCS_Diversity object at 0x7d3d2fc8a9b0>\n",
            "{'n_epoch': 30, 'name': 'CIFAR10', 'transform_train': Compose(\n",
            "    RandomCrop(size=(32, 32), padding=4)\n",
            "    RandomHorizontalFlip(p=0.5)\n",
            "    ToTensor()\n",
            "    Normalize(mean=(0.4914, 0.4822, 0.4465), std=(0.247, 0.2435, 0.2616))\n",
            "), 'transform': Compose(\n",
            "    ToTensor()\n",
            "    Normalize(mean=(0.4914, 0.4822, 0.4465), std=(0.247, 0.2435, 0.2616))\n",
            "), 'loader_tr_args': {'batch_size': 128, 'num_workers': 4}, 'loader_te_args': {'batch_size': 1000, 'num_workers': 4}, 'num_class': 10, 'pretrained': False, 'optimizer': 'Adam', 'optimizer_args': {'lr': 0.001}}\n",
            "RANDOM SEED 4666\n",
            "ALCS_Diversity\n"
          ]
        },
        {
          "output_type": "stream",
          "name": "stderr",
          "text": [
            "100%|███████████████████████████████████████████████████████████████| 30/30 [00:06<00:00,  4.67it/s]\n"
          ]
        }
      ]
    },
    {
      "cell_type": "code",
      "source": [],
      "metadata": {
        "id": "TdKUJivX4DwW"
      },
      "execution_count": null,
      "outputs": []
    }
  ]
}